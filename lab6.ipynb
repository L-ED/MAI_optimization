{
 "cells": [
  {
   "cell_type": "code",
   "execution_count": 12,
   "metadata": {},
   "outputs": [
    {
     "name": "stderr",
     "output_type": "stream",
     "text": [
      "Invalid MIT-MAGIC-COOKIE-1 key"
     ]
    }
   ],
   "source": [
    "import numpy as np\n",
    "from mpi4py import MPI"
   ]
  },
  {
   "attachments": {},
   "cell_type": "markdown",
   "metadata": {},
   "source": [
    "# Monte-Carlo Integration \n",
    "\n",
    "Sample points\n",
    "\n",
    "Estimate square by multiplying function value in each point by integration range(multiple rectangles)\n",
    "\n",
    "Take mean from estimated rectangles\n"
   ]
  },
  {
   "cell_type": "code",
   "execution_count": 7,
   "metadata": {},
   "outputs": [],
   "source": [
    "def MonteCarloIntegration(f, low, high, discretization):\n",
    "    points = np.random.uniform(low, high, discretization)\n",
    "    integal = (high-low)*sum(f(points))/len(points)\n",
    "    return integal\n"
   ]
  },
  {
   "cell_type": "code",
   "execution_count": 8,
   "metadata": {},
   "outputs": [],
   "source": [
    "def quadratic(x):\n",
    "    return x**2\n",
    "\n",
    "def linear(x):\n",
    "    return x"
   ]
  },
  {
   "cell_type": "code",
   "execution_count": 9,
   "metadata": {},
   "outputs": [
    {
     "data": {
      "text/plain": [
       "0.5018866093812954"
      ]
     },
     "execution_count": 9,
     "metadata": {},
     "output_type": "execute_result"
    }
   ],
   "source": [
    "MonteCarloIntegration(linear, 0, 1, 7000)"
   ]
  },
  {
   "cell_type": "code",
   "execution_count": 11,
   "metadata": {},
   "outputs": [
    {
     "data": {
      "text/plain": [
       "5.365658429262607"
      ]
     },
     "execution_count": 11,
     "metadata": {},
     "output_type": "execute_result"
    }
   ],
   "source": [
    "MonteCarloIntegration(quadratic, -2, 2, 5000)"
   ]
  },
  {
   "attachments": {},
   "cell_type": "markdown",
   "metadata": {},
   "source": [
    "# Using MPI"
   ]
  },
  {
   "cell_type": "code",
   "execution_count": 14,
   "metadata": {},
   "outputs": [],
   "source": [
    "def MPI_integration(discretization, func_type, low, high):\n",
    "\n",
    "    FUNCS={\n",
    "        \"linear\":linear,\n",
    "        \"quadratic\":quadratic\n",
    "    }\n",
    "\n",
    "    comm = MPI.COMM_WORLD\n",
    "    rank = comm.Get_rank()\n",
    "    size = comm.Get_size()\n",
    "\n",
    "    step_size = (high-low)/size\n",
    "    low_ = low + step_size*rank\n",
    "    high_ = low + step_size*(rank+1)\n",
    "\n",
    "    integral = MonteCarloIntegration(\n",
    "        FUNCS[func_type],\n",
    "        low_,\n",
    "        high_,\n",
    "        discretization\n",
    "    )\n",
    "\n",
    "    # sum will work because we have same sample points on each process\n",
    "    result = comm.reduce(integral, op=MPI.SUM, root=0)\n",
    "\n",
    "    if rank == 0:\n",
    "        result /= size\n",
    "\n",
    "        print(f\"Integral of {func_type} function on range from {low} to {high} is {result}\") \n",
    "\n"
   ]
  },
  {
   "cell_type": "code",
   "execution_count": 3,
   "metadata": {},
   "outputs": [
    {
     "name": "stdout",
     "output_type": "stream",
     "text": [
      "Invalid MIT-MAGIC-COOKIE-1 key--------------------------------------------------------------------------\n",
      "mpirun was unable to find the specified executable file, and therefore\n",
      "did not launch the job.  This error was first reported for process\n",
      "rank 0; it may have occurred for other processes as well.\n",
      "\n",
      "NOTE: A common cause for this error is misspelling a mpirun command\n",
      "      line parameter option (remember that mpirun interprets the first\n",
      "      unrecognized command line token as the executable).\n",
      "\n",
      "Node:       ledpc\n",
      "Executable: python\n",
      "--------------------------------------------------------------------------\n",
      "2 total processes failed to start\n"
     ]
    }
   ],
   "source": [
    "!mpirun -np 2 --allow-run-as-root python lab6_mpi.py\n",
    "     "
   ]
  },
  {
   "cell_type": "code",
   "execution_count": null,
   "metadata": {},
   "outputs": [],
   "source": []
  }
 ],
 "metadata": {
  "kernelspec": {
   "display_name": "Python 3",
   "language": "python",
   "name": "python3"
  },
  "language_info": {
   "codemirror_mode": {
    "name": "ipython",
    "version": 3
   },
   "file_extension": ".py",
   "mimetype": "text/x-python",
   "name": "python",
   "nbconvert_exporter": "python",
   "pygments_lexer": "ipython3",
   "version": "3.8.10"
  },
  "orig_nbformat": 4,
  "vscode": {
   "interpreter": {
    "hash": "31f2aee4e71d21fbe5cf8b01ff0e069b9275f58929596ceb00d14d90e3e16cd6"
   }
  }
 },
 "nbformat": 4,
 "nbformat_minor": 2
}
